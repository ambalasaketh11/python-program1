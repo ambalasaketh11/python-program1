{
  "nbformat": 4,
  "nbformat_minor": 0,
  "metadata": {
    "colab": {
      "provenance": []
    },
    "kernelspec": {
      "name": "python3",
      "display_name": "Python 3"
    },
    "language_info": {
      "name": "python"
    }
  },
  "cells": [
    {
      "cell_type": "code",
      "execution_count": null,
      "metadata": {
        "id": "yD-wS5mASZmV"
      },
      "outputs": [],
      "source": []
    },
    {
      "cell_type": "markdown",
      "source": [
        "simple calculator python program\n"
      ],
      "metadata": {
        "id": "kWJcNCxWSeTf"
      }
    },
    {
      "cell_type": "code",
      "source": [
        "def add(x,y):\n",
        "  return x+y\n",
        "def subtract(x,y):\n",
        "  return x-y\n",
        "def  multily(x,y):\n",
        "  return x*y\n",
        "def divide(x,y):\n",
        "  if(y!=0):\n",
        "     return x/y\n",
        "  else:\n",
        "    return\"Error!Division by zero.\"\n",
        "def calculator():\n",
        "  print(\"simple calculator\")\n",
        "  print(\"choose operation\")\n",
        "  print(\"1.add\")\n",
        "  print(\"2.subtract\")\n",
        "  print(\"3.multiply\")\n",
        "  print(\"4.divide\")\n",
        "while True:\n",
        "  choice = input(\"enter choice(1/2/3/4):\")\n",
        "  if choice in ['1','2','3','4']:\n",
        "    num1=float(input(\"enter first number:\"))\n",
        "    num2=float(input(\"enter second number\"))\n",
        "    if choice =='1':\n",
        "      print(f\"the result is:{add(num1,num2)}\")\n",
        "    elif choice == '2':\n",
        "        print(f\"the result is:{subtract(num1,num2)}\")\n",
        "    elif choice == '3':\n",
        "       print(f\"the result is:{multiply(num1,num2)}\")\n",
        "    elif choice == '4':\n",
        "       print(f\"the  result is:{divide(num1,num2)}\")\n",
        "    next_calculation =input(\"let's do next calculation?(yes/no):\")\n",
        "    if next_calculation.lower()!=\"yes\":\n",
        "        break\n",
        "  else:\n",
        "        print(\"invaild input\")"
      ],
      "metadata": {
        "colab": {
          "base_uri": "https://localhost:8080/"
        },
        "id": "uS8rOv1_Sqof",
        "outputId": "d53bb39c-125e-4a8f-d719-66fb394b4b10"
      },
      "execution_count": 25,
      "outputs": [
        {
          "name": "stdout",
          "output_type": "stream",
          "text": [
            "enter choice(1/2/3/4):2\n",
            "enter first number:1\n",
            "enter second number2\n",
            "the result is:-1.0\n",
            "let's do next calculation?(yes/no):5\n"
          ]
        }
      ]
    },
    {
      "cell_type": "code",
      "source": [
        ""
      ],
      "metadata": {
        "id": "Qy4LkjD6YhVN"
      },
      "execution_count": 12,
      "outputs": []
    }
  ]
}